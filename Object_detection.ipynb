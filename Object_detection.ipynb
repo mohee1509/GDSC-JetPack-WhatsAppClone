{
  "nbformat": 4,
  "nbformat_minor": 0,
  "metadata": {
    "colab": {
      "provenance": [],
      "collapsed_sections": [],
      "authorship_tag": "ABX9TyPeOqFSvIW4mWnpiBghRJFK",
      "include_colab_link": true
    },
    "kernelspec": {
      "name": "python3",
      "display_name": "Python 3"
    },
    "language_info": {
      "name": "python"
    }
  },
  "cells": [
    {
      "cell_type": "markdown",
      "metadata": {
        "id": "view-in-github",
        "colab_type": "text"
      },
      "source": [
        "<a href=\"https://colab.research.google.com/github/mohee1509/GDSC-JetPack-WhatsAppClone/blob/main/Object_detection.ipynb\" target=\"_parent\"><img src=\"https://colab.research.google.com/assets/colab-badge.svg\" alt=\"Open In Colab\"/></a>"
      ]
    },
    {
      "cell_type": "code",
      "source": [
        "print(\"Object detection\")\n",
        "\n",
        "i = 0\n",
        "imgList = list()\n",
        "[]\n",
        "while(i<5):\n",
        "  img = input(\"Enter size of image\")\n",
        "  i = i+1\n",
        "  imgList.append(float(img))\n",
        "\n",
        "avg = sum(imgList)/len(imgList)\n",
        "print(\"Average is\",avg)"
      ],
      "metadata": {
        "id": "rYBEohatX5_V"
      },
      "execution_count": null,
      "outputs": []
    },
    {
      "cell_type": "code",
      "source": [
        "data =\"From jyoti@perfectelearning.com Cat Dog 4000\"\n",
        "str = data.split()\n",
        "\n",
        "print(str[1])\n",
        "print(str[2])\n",
        "print(str[3])\n",
        "\n",
        "x = str[1]\n",
        "y = x.split('@')\n",
        "print(y[0])"
      ],
      "metadata": {
        "colab": {
          "base_uri": "https://localhost:8080/"
        },
        "id": "K41KOwJ3bdrL",
        "outputId": "e639dc65-dffc-4906-e4de-2b50a7d86212"
      },
      "execution_count": 8,
      "outputs": [
        {
          "output_type": "stream",
          "name": "stdout",
          "text": [
            "jyoti@perfectelearning.com\n",
            "Cat\n",
            "Dog\n",
            "jyoti\n"
          ]
        }
      ]
    },
    {
      "cell_type": "code",
      "source": [],
      "metadata": {
        "id": "iIEOzLVXb-O4"
      },
      "execution_count": 8,
      "outputs": []
    }
  ]
}